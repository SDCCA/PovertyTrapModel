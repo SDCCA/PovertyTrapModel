{
 "cells": [
  {
   "cell_type": "code",
   "execution_count": 1,
   "id": "0042b26b-5528-4b08-9ed5-4b2392c752dd",
   "metadata": {},
   "outputs": [],
   "source": [
    "import os"
   ]
  },
  {
   "cell_type": "code",
   "execution_count": 2,
   "id": "4f9656ba-2eba-4744-a759-2de231c48d67",
   "metadata": {},
   "outputs": [],
   "source": [
    "os.environ[\"DGLBACKEND\"] = \"pytorch\""
   ]
  },
  {
   "cell_type": "code",
   "execution_count": 3,
   "id": "4d6ba1c6-bdc9-43fa-82fa-efe031a131fb",
   "metadata": {},
   "outputs": [],
   "source": [
    "import torch \n",
    "import pandas as pd\n",
    "import dgl\n",
    "from dgl.data import DGLDataset"
   ]
  },
  {
   "cell_type": "code",
   "execution_count": 5,
   "id": "612f8634-c280-4387-8c40-5e1bc77e6922",
   "metadata": {},
   "outputs": [],
   "source": [
    "(g,), _ = dgl.load_graphs('./DGL_playground/toy_dataset/toygraph.dgl')"
   ]
  },
  {
   "cell_type": "code",
   "execution_count": null,
   "id": "b29ab5d2-524a-4e52-b4d6-87be41560899",
   "metadata": {},
   "outputs": [],
   "source": []
  },
  {
   "cell_type": "code",
   "execution_count": null,
   "id": "ba83fc8e-7c0d-44d2-a3ac-e99dab38f5a8",
   "metadata": {},
   "outputs": [],
   "source": []
  }
 ],
 "metadata": {
  "kernelspec": {
   "display_name": "SDCCA",
   "language": "python",
   "name": "sdcca"
  },
  "language_info": {
   "codemirror_mode": {
    "name": "ipython",
    "version": 3
   },
   "file_extension": ".py",
   "mimetype": "text/x-python",
   "name": "python",
   "nbconvert_exporter": "python",
   "pygments_lexer": "ipython3",
   "version": "3.11.3"
  }
 },
 "nbformat": 4,
 "nbformat_minor": 5
}
