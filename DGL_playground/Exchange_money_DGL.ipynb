{
 "cells": [
  {
   "cell_type": "code",
   "execution_count": 1,
   "id": "6fbe6c39-8c82-40a3-b9f6-0ffad3bcbd69",
   "metadata": {},
   "outputs": [],
   "source": [
    "import os"
   ]
  },
  {
   "cell_type": "code",
   "execution_count": 2,
   "id": "eb485a6b-4ac5-481d-9698-065078a1153d",
   "metadata": {},
   "outputs": [],
   "source": [
    "os.environ[\"DGLBACKEND\"] = \"pytorch\""
   ]
  },
  {
   "cell_type": "code",
   "execution_count": 3,
   "id": "4afb538b-7c04-47cc-b18f-1005f1c69307",
   "metadata": {},
   "outputs": [],
   "source": [
    "import torch \n",
    "import pandas as pd\n",
    "import dgl\n",
    "from dgl.data import DGLDataset\n",
    "import dgl.function as fn\n",
    "import numpy as np"
   ]
  },
  {
   "cell_type": "code",
   "execution_count": 4,
   "id": "2993410a-471e-43de-a127-9cdb4d5010d3",
   "metadata": {},
   "outputs": [
    {
     "name": "stdout",
     "output_type": "stream",
     "text": [
      "Done loading data from cached files.\n"
     ]
    }
   ],
   "source": [
    "ds = dgl.data.CSVDataset('./DGL_playground/toy_dataset/')"
   ]
  },
  {
   "cell_type": "code",
   "execution_count": 5,
   "id": "d0caa888-26ee-4d09-87ff-ca5e9bbe80d7",
   "metadata": {},
   "outputs": [],
   "source": [
    "g = ds[0]"
   ]
  },
  {
   "cell_type": "code",
   "execution_count": 6,
   "id": "cd74092f-5caa-4cd9-966c-8e81ef278bdb",
   "metadata": {},
   "outputs": [
    {
     "name": "stdout",
     "output_type": "stream",
     "text": [
      "Graph(num_nodes=10, num_edges=20,\n",
      "      ndata_schemes={' na2': Scheme(shape=(), dtype=torch.int64), ' na1': Scheme(shape=(), dtype=torch.int64)}\n",
      "      edata_schemes={'ea2': Scheme(shape=(), dtype=torch.int64), 'ea1': Scheme(shape=(), dtype=torch.int64), 'w': Scheme(shape=(), dtype=torch.int64)})\n"
     ]
    }
   ],
   "source": [
    "print(g)\n"
   ]
  },
  {
   "attachments": {},
   "cell_type": "markdown",
   "id": "d45b3df4",
   "metadata": {},
   "source": [
    "### Define Weights\n",
    "\n",
    "The weights need to be constant along any bi-directed edge. DGL does not provide a function to ensure this happens. Currently a for loop is being used to ensure identical weights along edges - a better solution needs to be found to ensure scalability of the model."
   ]
  },
  {
   "cell_type": "code",
   "execution_count": 7,
   "id": "7a85ae11-826b-464e-8a7f-4bd367ad2db4",
   "metadata": {},
   "outputs": [],
   "source": [
    "g.edata['w'] = torch.rand(g.num_edges(),1)\n",
    "# g.edata['w']"
   ]
  },
  {
   "cell_type": "code",
   "execution_count": 8,
   "id": "1a79e7ea",
   "metadata": {},
   "outputs": [
    {
     "data": {
      "text/plain": [
       "(tensor([0, 0, 0, 1, 1, 2, 2, 3, 3, 3, 4, 4, 5, 5, 6, 6, 7, 7, 8, 8]),\n",
       " tensor([1, 2, 3, 0, 2, 0, 1, 0, 4, 5, 3, 5, 3, 4, 7, 8, 6, 8, 6, 7]),\n",
       " tensor([ 0,  1,  2,  3,  4,  5,  6,  7,  8,  9, 10, 11, 12, 13, 14, 15, 16, 17,\n",
       "         18, 19]))"
      ]
     },
     "execution_count": 8,
     "metadata": {},
     "output_type": "execute_result"
    }
   ],
   "source": [
    "g.edges(\"all\")"
   ]
  },
  {
   "cell_type": "code",
   "execution_count": 9,
   "metadata": {},
   "outputs": [
    {
     "data": {
      "text/plain": [
       "tensor([[0.1062],\n",
       "        [0.1417],\n",
       "        [0.7484],\n",
       "        [0.1062],\n",
       "        [0.2712],\n",
       "        [0.1417],\n",
       "        [0.2712],\n",
       "        [0.7484],\n",
       "        [0.4586],\n",
       "        [0.9633],\n",
       "        [0.4586],\n",
       "        [0.3179],\n",
       "        [0.9633],\n",
       "        [0.3179],\n",
       "        [0.6236],\n",
       "        [0.5601],\n",
       "        [0.6236],\n",
       "        [0.0011],\n",
       "        [0.5601],\n",
       "        [0.0011]])"
      ]
     },
     "execution_count": 9,
     "metadata": {},
     "output_type": "execute_result"
    }
   ],
   "source": [
    "# Obtain source, destination and edge ids for all edges\n",
    "[src, dst, eid] = g.edges(form = 'all')\n",
    "\n",
    "# Loop through edges to identify bi-directional edges to then assign same weights\n",
    "# This loop can be optimized but ideally needs to be replaced with an parallelisable function\n",
    "for i in eid:\n",
    "    for j in eid:\n",
    "        if (src[i] == dst[j] and dst[i] == src[j]): #For edges with same nodes\n",
    "            g.edata['w'][j] = g.edata['w'][i]\n",
    "            break\n",
    "g.edata['w']"
   ]
  },
  {
   "cell_type": "code",
   "execution_count": 10,
   "id": "d5359e8e",
   "metadata": {},
   "outputs": [],
   "source": [
    "#Create wealth per node/agent in the network as a node feature/attribute\n",
    "g.ndata['k'] = torch.rand(g.num_nodes(),1)*1000"
   ]
  },
  {
   "cell_type": "code",
   "execution_count": 11,
   "id": "37bb7a8a",
   "metadata": {},
   "outputs": [],
   "source": [
    "#Create savings propensity as a node features per agent\n",
    "g.ndata['lambda'] = torch.rand(g.num_nodes(),1)"
   ]
  },
  {
   "cell_type": "code",
   "execution_count": 12,
   "id": "7534fd4f",
   "metadata": {},
   "outputs": [],
   "source": [
    "#Initialize some base node attributes (0s, and 1s)\n",
    "g.ndata['zeros'] = torch.zeros(g.num_nodes(),1)\n",
    "g.ndata['ones'] = torch.ones(g.num_nodes(),1)"
   ]
  },
  {
   "cell_type": "code",
   "execution_count": 13,
   "id": "c4375e49",
   "metadata": {},
   "outputs": [
    {
     "data": {
      "text/plain": [
       "tensor([[3.],\n",
       "        [2.],\n",
       "        [2.],\n",
       "        [3.],\n",
       "        [2.],\n",
       "        [2.],\n",
       "        [2.],\n",
       "        [2.],\n",
       "        [2.],\n",
       "        [0.]])"
      ]
     },
     "execution_count": 13,
     "metadata": {},
     "output_type": "execute_result"
    }
   ],
   "source": [
    "#Calculate number of neighbours (tot_nbr) each node has using built-in functions\n",
    "g.update_all(fn.u_add_v('zeros','ones','tot_nbr'), fn.sum('tot_nbr', 'tot_nbr'))\n",
    "g.ndata['tot_nbr']"
   ]
  },
  {
   "cell_type": "markdown",
   "id": "7bb03321",
   "metadata": {},
   "source": [
    "### Wealth Transfer Method 1: To all neighbours based on edge weights "
   ]
  },
  {
   "cell_type": "code",
   "execution_count": 13,
   "metadata": {},
   "outputs": [
    {
     "data": {
      "text/plain": [
       "tensor([[2.1111],\n",
       "        [1.7020],\n",
       "        [1.3924],\n",
       "        [1.2572],\n",
       "        [1.3032],\n",
       "        [1.2873],\n",
       "        [1.4322],\n",
       "        [0.9703],\n",
       "        [0.5404],\n",
       "        [0.0000]])"
      ]
     },
     "execution_count": 13,
     "metadata": {},
     "output_type": "execute_result"
    }
   ],
   "source": [
    "#Calculate total weight of all incoming (or outgoing, equivalent bidirectional graph) edges to each node\n",
    "g.ndata['tot_wgt'] = torch.zeros(g.num_nodes(),1)\n",
    "g.update_all(fn.u_add_e('tot_wgt','w','tot_wgt'), fn.sum('tot_wgt', 'tot_wgt'))\n",
    "g.ndata['tot_wgt']"
   ]
  },
  {
   "cell_type": "code",
   "execution_count": 14,
   "id": "ba23e1bf",
   "metadata": {},
   "outputs": [
    {
     "data": {
      "text/plain": [
       "tensor([[0.4164],\n",
       "        [0.2698],\n",
       "        [0.3138],\n",
       "        [0.5165],\n",
       "        [0.4835],\n",
       "        [0.4090],\n",
       "        [0.5910],\n",
       "        [0.5270],\n",
       "        [0.2428],\n",
       "        [0.2302],\n",
       "        [0.2343],\n",
       "        [0.7657],\n",
       "        [0.2248],\n",
       "        [0.7752],\n",
       "        [0.6501],\n",
       "        [0.3499],\n",
       "        [0.9596],\n",
       "        [0.0404],\n",
       "        [0.9274],\n",
       "        [0.0726]])"
      ]
     },
     "execution_count": 14,
     "metadata": {},
     "output_type": "execute_result"
    }
   ],
   "source": [
    "# e_div_u divides the edge feature by the feature of the source node for outgoing edges\n",
    "# However, u_add_e addes the features of edges with source node for incoming edges\n",
    "# Not sure if this discrepancy is intentional\n",
    "g.apply_edges(fn.e_div_u('w','tot_wgt','per_wgt'))\n",
    "g.edata['per_wgt']"
   ]
  },
  {
   "cell_type": "code",
   "execution_count": 15,
   "id": "9fd3f8cb",
   "metadata": {},
   "outputs": [
    {
     "data": {
      "text/plain": [
       "tensor([[218.4663],\n",
       "        [ 26.4017],\n",
       "        [ 91.8854],\n",
       "        [227.9832],\n",
       "        [ 17.4198],\n",
       "        [893.2269],\n",
       "        [216.5609],\n",
       "        [ 68.1918],\n",
       "        [146.3507],\n",
       "        [366.8424]])"
      ]
     },
     "execution_count": 15,
     "metadata": {},
     "output_type": "execute_result"
    }
   ],
   "source": [
    "# Calculate disposable wealth depending on savings propensity (lambda) and wealth (k)\n",
    "g.ndata['disp_wealth'] = g.ndata['lambda']*g.ndata['k']\n",
    "g.ndata['disp_wealth']"
   ]
  },
  {
   "cell_type": "code",
   "execution_count": 16,
   "id": "b7c0870a",
   "metadata": {},
   "outputs": [
    {
     "data": {
      "text/plain": [
       "tensor([[ 90.9696],\n",
       "        [ 58.9324],\n",
       "        [ 68.5644],\n",
       "        [ 13.6364],\n",
       "        [ 12.7652],\n",
       "        [ 37.5808],\n",
       "        [ 54.3046],\n",
       "        [120.1447],\n",
       "        [ 55.3564],\n",
       "        [ 52.4822],\n",
       "        [  4.0806],\n",
       "        [ 13.3391],\n",
       "        [200.8192],\n",
       "        [692.4078],\n",
       "        [140.7790],\n",
       "        [ 75.7819],\n",
       "        [ 65.4344],\n",
       "        [  2.7574],\n",
       "        [135.7258],\n",
       "        [ 10.6249]])"
      ]
     },
     "execution_count": 16,
     "metadata": {},
     "output_type": "execute_result"
    }
   ],
   "source": [
    "#Calculate income to be transferred along an edge\n",
    "g.apply_edges(fn.e_mul_u('per_wgt','disp_wealth','trfr_wealth'))\n",
    "g.edata['trfr_wealth']"
   ]
  },
  {
   "cell_type": "code",
   "execution_count": 17,
   "id": "fb3aa4a9",
   "metadata": {},
   "outputs": [
    {
     "data": {
      "text/plain": [
       "tensor([[171.3618],\n",
       "        [145.2742],\n",
       "        [ 71.6976],\n",
       "        [273.4642],\n",
       "        [747.7642],\n",
       "        [ 65.8213],\n",
       "        [201.1602],\n",
       "        [151.4039],\n",
       "        [ 78.5393],\n",
       "        [  0.0000]])"
      ]
     },
     "execution_count": 17,
     "metadata": {},
     "output_type": "execute_result"
    }
   ],
   "source": [
    "# Message passing along edges to sum total income obtained from neighbours for each node/agent\n",
    "g.update_all(fn.v_add_e('zeros','trfr_wealth','delta_inc'), fn.sum('delta_inc', 'delta_inc'))\n",
    "g.ndata['delta_inc']"
   ]
  },
  {
   "cell_type": "markdown",
   "id": "815c3d42",
   "metadata": {},
   "source": [
    "### Wealth Transfer Method 2: To one random neighbour from list of neighbours"
   ]
  },
  {
   "cell_type": "code",
   "execution_count": 14,
   "id": "b3ef1cc8",
   "metadata": {},
   "outputs": [
    {
     "data": {
      "text/plain": [
       "tensor([[ 65.7963],\n",
       "        [ 22.1956],\n",
       "        [211.9366],\n",
       "        [ 40.2728],\n",
       "        [ 97.5574],\n",
       "        [ 38.6332],\n",
       "        [  2.4555],\n",
       "        [174.4195],\n",
       "        [216.1678],\n",
       "        [842.2933]])"
      ]
     },
     "execution_count": 14,
     "metadata": {},
     "output_type": "execute_result"
    }
   ],
   "source": [
    "# Calculate disposable wealth depending on savings propensity (lambda) and wealth (k)\n",
    "g.ndata['disp_wealth'] = g.ndata['lambda']*g.ndata['k']\n",
    "g.ndata['disp_wealth']"
   ]
  },
  {
   "cell_type": "code",
   "execution_count": 15,
   "id": "1134736b",
   "metadata": {},
   "outputs": [
    {
     "data": {
      "text/plain": [
       "Graph(num_nodes=10, num_edges=9,\n",
       "      ndata_schemes={' na2': Scheme(shape=(), dtype=torch.int64), ' na1': Scheme(shape=(), dtype=torch.int64), 'k': Scheme(shape=(1,), dtype=torch.float32), 'lambda': Scheme(shape=(1,), dtype=torch.float32), 'zeros': Scheme(shape=(1,), dtype=torch.float32), 'ones': Scheme(shape=(1,), dtype=torch.float32), 'tot_nbr': Scheme(shape=(1,), dtype=torch.float32), 'disp_wealth': Scheme(shape=(1,), dtype=torch.float32)}\n",
       "      edata_schemes={'ea2': Scheme(shape=(), dtype=torch.int64), 'ea1': Scheme(shape=(), dtype=torch.int64), 'w': Scheme(shape=(1,), dtype=torch.float32), '_ID': Scheme(shape=(), dtype=torch.int64)})"
      ]
     },
     "execution_count": 15,
     "metadata": {},
     "output_type": "execute_result"
    }
   ],
   "source": [
    "# Using dgl sample_neighbours function to create sub-graph with 1 edge for each node (i.e. choose a random edge for each node as needed for the Boltzmann wealth model)\n",
    "# Syntax:\n",
    "#   dgl.sampling.sample_neighbors(g, nodes, fanout, edge_dir='in', prob=None, replace=False, copy_ndata=True, copy_edata=True, _dist_training=False, exclude_edges=None, output_device=None)\n",
    "\n",
    "g_subset = dgl.sampling.sample_neighbors(g, g.nodes(), 1, edge_dir='out', copy_ndata = True) #copy_ndata ensures data from g is transferred to g_subset\n",
    "g_subset"
   ]
  },
  {
   "cell_type": "code",
   "execution_count": 41,
   "id": "dfd9a7cc",
   "metadata": {},
   "outputs": [
    {
     "data": {
      "text/plain": [
       "tensor([234.1322,  65.7963,   0.0000, 136.1905,  40.2728,   0.0000,   0.0000,\n",
       "        216.1678, 176.8750,   0.0000])"
      ]
     },
     "execution_count": 41,
     "metadata": {},
     "output_type": "execute_result"
    }
   ],
   "source": [
    "g_subset.ndata['delta_inc'] = torch.zeros(g.num_nodes(),1)\n",
    "g_subset.update_all(fn.u_add_v('disp_wealth','zeros','delta_inc'), fn.sum('delta_inc', 'delta_inc'))\n",
    "torch.squeeze(g_subset.ndata['delta_inc'])"
   ]
  },
  {
   "cell_type": "markdown",
   "id": "0a09d0a7",
   "metadata": {},
   "source": [
    "### Update wealth at time t+1\n"
   ]
  },
  {
   "cell_type": "code",
   "execution_count": 35,
   "id": "d01c0ab6",
   "metadata": {},
   "outputs": [
    {
     "data": {
      "text/plain": [
       "tensor([[ True],\n",
       "        [ True],\n",
       "        [ True],\n",
       "        [ True],\n",
       "        [ True],\n",
       "        [ True],\n",
       "        [ True],\n",
       "        [ True],\n",
       "        [ True],\n",
       "        [False]])"
      ]
     },
     "execution_count": 35,
     "metadata": {},
     "output_type": "execute_result"
    }
   ],
   "source": [
    "# Create a mask to check if a given node has atleast 1 associated edge to give money\n",
    "g_subset.ndata['mask'] = torch.zeros(g_subset.num_nodes(),1)\n",
    "g_subset.ndata['mask'] = torch.tensor([i in src for i in g_subset.nodes()])[:,None]\n",
    "g_subset.ndata['mask']"
   ]
  },
  {
   "cell_type": "code",
   "execution_count": 43,
   "id": "ee1cce1e",
   "metadata": {},
   "outputs": [],
   "source": [
    "# Update income for next time-step\n",
    "# This and the previous step can be simplified by directly updating k in the final model\n",
    "# The use of mask is necessary to ensure that updated wealths do not change for nodes with no edges\n",
    "g_subset.ndata['k_new'] = g_subset.ndata['k'] - g_subset.ndata['disp_wealth']*g_subset.ndata['mask'] + g_subset.ndata['delta_inc']\n",
    "g.ndata['k_new'] = g_subset.ndata['k_new']"
   ]
  },
  {
   "cell_type": "code",
   "execution_count": 44,
   "id": "d2affd6d",
   "metadata": {},
   "outputs": [
    {
     "data": {
      "text/plain": [
       "tensor([251.8720, 126.4798, 238.9267, 956.5364,  98.2575, 382.0890,   7.2087,\n",
       "        429.0481, 527.9481, 984.7639])"
      ]
     },
     "execution_count": 44,
     "metadata": {},
     "output_type": "execute_result"
    }
   ],
   "source": [
    "torch.squeeze(g.ndata['k_new'])"
   ]
  },
  {
   "cell_type": "markdown",
   "id": "9e685a41",
   "metadata": {},
   "source": [
    "### Analyse wealth exchange by plotting wealth at time t ('k') and time t+1 ('k_new') \n",
    "\n",
    "Ensuring continuity by checking that total wealth is consistent between time t and t+1"
   ]
  },
  {
   "cell_type": "code",
   "execution_count": 45,
   "id": "2abf9140",
   "metadata": {},
   "outputs": [
    {
     "data": {
      "text/plain": [
       "[<matplotlib.lines.Line2D at 0x7f2fc70ce090>]"
      ]
     },
     "execution_count": 45,
     "metadata": {},
     "output_type": "execute_result"
    },
    {
     "data": {
      "image/png": "[encoded data removed]",
      "text/plain": [
       "<Figure size 640x480 with 1 Axes>"
      ]
     },
     "metadata": {},
     "output_type": "display_data"
    }
   ],
   "source": [
    "#Plotting current wealth and updated wealth for each agent for one time-step\n",
    "import matplotlib.pyplot as plt\n",
    "\n",
    "plt.plot(g.ndata['k'])\n",
    "plt.plot(g.ndata['k_new'])"
   ]
  },
  {
   "cell_type": "code",
   "execution_count": 46,
   "id": "350d99e4",
   "metadata": {},
   "outputs": [
    {
     "name": "stdout",
     "output_type": "stream",
     "text": [
      "tensor([-0.0002])\n"
     ]
    }
   ],
   "source": [
    "#Checking for continuity of wealth\n",
    "print (sum(g.ndata['k']) - sum(g.ndata['k_new']))"
   ]
  }
 ],
 "metadata": {
  "kernelspec": {
   "display_name": "ptm",
   "language": "python",
   "name": "python3"
  },
  "language_info": {
   "codemirror_mode": {
    "name": "ipython",
    "version": 3
   },
   "file_extension": ".py",
   "mimetype": "text/x-python",
   "name": "python",
   "nbconvert_exporter": "python",
   "pygments_lexer": "ipython3",
   "version": "3.11.4"
  }
 },
 "nbformat": 4,
 "nbformat_minor": 5
}
