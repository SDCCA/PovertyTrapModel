{
 "cells": [
  {
   "cell_type": "code",
   "execution_count": 1,
   "id": "6fbe6c39-8c82-40a3-b9f6-0ffad3bcbd69",
   "metadata": {},
   "outputs": [],
   "source": [
    "import os\n",
    "\n"
   ]
  },
  {
   "cell_type": "code",
   "execution_count": 2,
   "id": "eb485a6b-4ac5-481d-9698-065078a1153d",
   "metadata": {},
   "outputs": [],
   "source": [
    "os.environ[\"DGLBACKEND\"] = \"pytorch\""
   ]
  },
  {
   "cell_type": "code",
   "execution_count": 3,
   "id": "4afb538b-7c04-47cc-b18f-1005f1c69307",
   "metadata": {},
   "outputs": [],
   "source": [
    "import torch \n",
    "import pandas as pd\n",
    "import dgl\n",
    "from dgl.data import DGLDataset"
   ]
  },
  {
   "cell_type": "code",
   "execution_count": 5,
   "id": "2993410a-471e-43de-a127-9cdb4d5010d3",
   "metadata": {},
   "outputs": [
    {
     "name": "stdout",
     "output_type": "stream",
     "text": [
      "Done saving data into cached files.\n"
     ]
    }
   ],
   "source": [
    "ds = dgl.data.CSVDataset('./DGL_playground/toy_dataset/')"
   ]
  },
  {
   "cell_type": "code",
   "execution_count": 6,
   "id": "d0caa888-26ee-4d09-87ff-ca5e9bbe80d7",
   "metadata": {},
   "outputs": [],
   "source": [
    "g = ds[0]"
   ]
  },
  {
   "cell_type": "code",
   "execution_count": 7,
   "id": "cd74092f-5caa-4cd9-966c-8e81ef278bdb",
   "metadata": {},
   "outputs": [
    {
     "name": "stdout",
     "output_type": "stream",
     "text": [
      "Graph(num_nodes=10, num_edges=20,\n",
      "      ndata_schemes={' na1': Scheme(shape=(), dtype=torch.int64), ' na2': Scheme(shape=(), dtype=torch.int64)}\n",
      "      edata_schemes={'w': Scheme(shape=(), dtype=torch.int64), 'ea1': Scheme(shape=(), dtype=torch.int64), 'ea2': Scheme(shape=(), dtype=torch.int64)})\n"
     ]
    }
   ],
   "source": [
    "print(g)\n"
   ]
  },
  {
   "cell_type": "code",
   "execution_count": null,
   "id": "7a85ae11-826b-464e-8a7f-4bd367ad2db4",
   "metadata": {},
   "outputs": [],
   "source": []
  }
 ],
 "metadata": {
  "kernelspec": {
   "display_name": "SDCCA",
   "language": "python",
   "name": "sdcca"
  },
  "language_info": {
   "codemirror_mode": {
    "name": "ipython",
    "version": 3
   },
   "file_extension": ".py",
   "mimetype": "text/x-python",
   "name": "python",
   "nbconvert_exporter": "python",
   "pygments_lexer": "ipython3",
   "version": "3.11.3"
  }
 },
 "nbformat": 4,
 "nbformat_minor": 5
}
