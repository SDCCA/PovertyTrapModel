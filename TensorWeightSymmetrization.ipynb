{
 "cells": [
  {
   "cell_type": "code",
   "execution_count": 1,
   "id": "a3b25b93-cb20-4984-a4f2-9c51976ea2b5",
   "metadata": {},
   "outputs": [],
   "source": [
    "import os"
   ]
  },
  {
   "cell_type": "code",
   "execution_count": 2,
   "id": "5ecfd442-5c2f-467f-95a9-413e7d9d88e7",
   "metadata": {},
   "outputs": [],
   "source": [
    "os.environ[\"DGLBACKEND\"] = \"pytorch\""
   ]
  },
  {
   "cell_type": "code",
   "execution_count": 3,
   "id": "4e187b82-4dc7-4b53-970b-9c6470ad4f68",
   "metadata": {},
   "outputs": [],
   "source": [
    "import torch \n",
    "import pandas as pd\n",
    "import dgl\n",
    "from dgl.data import DGLDataset\n",
    "import dgl.function as fn\n",
    "import numpy as np"
   ]
  },
  {
   "cell_type": "code",
   "execution_count": 4,
   "id": "e8854deb-e663-4d91-b0f6-4aa1ad072899",
   "metadata": {},
   "outputs": [
    {
     "name": "stdout",
     "output_type": "stream",
     "text": [
      "Done loading data from cached files.\n"
     ]
    }
   ],
   "source": [
    "ds = dgl.data.CSVDataset('./DGL_playground/toy_dataset/')"
   ]
  },
  {
   "cell_type": "code",
   "execution_count": null,
   "id": "baa2a6cb-20ec-41c9-98a0-6edea09dccec",
   "metadata": {},
   "outputs": [],
   "source": []
  },
  {
   "cell_type": "code",
   "execution_count": 5,
   "id": "639f18db-157e-4854-8ec3-5981bea0625d",
   "metadata": {},
   "outputs": [],
   "source": [
    "g = ds[0]"
   ]
  },
  {
   "cell_type": "code",
   "execution_count": 37,
   "id": "5cc53315-b7c4-4ec0-80b7-1fe551c4f37a",
   "metadata": {},
   "outputs": [],
   "source": [
    "g.edata['w'] = torch.rand(g.num_edges(),1)"
   ]
  },
  {
   "cell_type": "code",
   "execution_count": 38,
   "id": "8d0e6d35-b77d-43ef-b2e4-09b20da9a0ed",
   "metadata": {},
   "outputs": [
    {
     "data": {
      "text/plain": [
       "(tensor([0, 0, 0, 1, 1, 2, 2, 3, 3, 3, 4, 4, 5, 5, 6, 6, 7, 7, 8, 8]),\n",
       " tensor([1, 2, 3, 0, 2, 0, 1, 0, 4, 5, 3, 5, 3, 4, 7, 8, 6, 8, 6, 7]),\n",
       " tensor([ 0,  1,  2,  3,  4,  5,  6,  7,  8,  9, 10, 11, 12, 13, 14, 15, 16, 17,\n",
       "         18, 19]))"
      ]
     },
     "execution_count": 38,
     "metadata": {},
     "output_type": "execute_result"
    }
   ],
   "source": [
    "g.edges(\"all\")"
   ]
  },
  {
   "cell_type": "code",
   "execution_count": 39,
   "id": "0e6feb10-3751-4bdf-a7fc-d66112b11783",
   "metadata": {},
   "outputs": [
    {
     "data": {
      "text/plain": [
       "tensor([[0.4685],\n",
       "        [0.5463],\n",
       "        [0.6963],\n",
       "        [0.4754],\n",
       "        [0.3563],\n",
       "        [0.5243],\n",
       "        [0.8724],\n",
       "        [0.5312],\n",
       "        [0.0729],\n",
       "        [0.3145],\n",
       "        [0.9544],\n",
       "        [0.5473],\n",
       "        [0.5350],\n",
       "        [0.6529],\n",
       "        [0.5015],\n",
       "        [0.9761],\n",
       "        [0.1826],\n",
       "        [0.0806],\n",
       "        [0.3927],\n",
       "        [0.5473]])"
      ]
     },
     "execution_count": 39,
     "metadata": {},
     "output_type": "execute_result"
    }
   ],
   "source": [
    "g.edata['w']"
   ]
  },
  {
   "cell_type": "markdown",
   "id": "a172dc2a-b663-4409-a94b-4b2eb26b1f03",
   "metadata": {},
   "source": [
    "The adjacency matrix method of dgl.sparse contains a bug which makes it impossible to retrieve the value of an edge property in the adjacency matrix, although the documentation does imply this ability. The folowing is a reimplementation of the method fixing that issue."
   ]
  },
  {
   "cell_type": "code",
   "execution_count": 32,
   "id": "012d011d-09e4-4034-bafe-60f6d11d4581",
   "metadata": {},
   "outputs": [],
   "source": [
    "import torch\n",
    "from dgl.sparse import spmatrix\n",
    "\n",
    "def adj_mat_with_edge_prop(m, etype= None, eprop=None):\n",
    "    \n",
    "    \n",
    "    etype = m.to_canonical_etype(etype)\n",
    "    indices = torch.stack(m.all_edges(etype=etype))\n",
    "    shape = (m.num_nodes(etype[0]), m.number_of_nodes(etype[2]))\n",
    "    if eprop is not None:\n",
    "        val = m.edges[etype].data[eprop].flatten()\n",
    "    else:\n",
    "        val = None\n",
    "        \n",
    "    return spmatrix(\n",
    "        indices,\n",
    "        val=val,\n",
    "        shape=shape,\n",
    "    )"
   ]
  },
  {
   "cell_type": "markdown",
   "id": "679cb7e4-be2f-4627-adda-b6799c5deaef",
   "metadata": {},
   "source": [
    "Construct an adjacency matrix of graph `g` with the `w` edge values as entry"
   ]
  },
  {
   "cell_type": "code",
   "execution_count": null,
   "id": "24274311-4cb1-415c-bffb-9f6e469fa92e",
   "metadata": {},
   "outputs": [],
   "source": [
    "adje = adj_mat_with_edge_prop(g, etype= None, eprop='w')"
   ]
  },
  {
   "cell_type": "code",
   "execution_count": 41,
   "id": "66d1708a-529a-42e5-bace-66e51f0a689d",
   "metadata": {},
   "outputs": [
    {
     "data": {
      "text/plain": [
       "tensor([[0.0000, 0.4685, 0.5463, 0.6963, 0.0000, 0.0000, 0.0000, 0.0000, 0.0000,\n",
       "         0.0000],\n",
       "        [0.4754, 0.0000, 0.3563, 0.0000, 0.0000, 0.0000, 0.0000, 0.0000, 0.0000,\n",
       "         0.0000],\n",
       "        [0.5243, 0.8724, 0.0000, 0.0000, 0.0000, 0.0000, 0.0000, 0.0000, 0.0000,\n",
       "         0.0000],\n",
       "        [0.5312, 0.0000, 0.0000, 0.0000, 0.0729, 0.3145, 0.0000, 0.0000, 0.0000,\n",
       "         0.0000],\n",
       "        [0.0000, 0.0000, 0.0000, 0.9544, 0.0000, 0.5473, 0.0000, 0.0000, 0.0000,\n",
       "         0.0000],\n",
       "        [0.0000, 0.0000, 0.0000, 0.5350, 0.6529, 0.0000, 0.0000, 0.0000, 0.0000,\n",
       "         0.0000],\n",
       "        [0.0000, 0.0000, 0.0000, 0.0000, 0.0000, 0.0000, 0.0000, 0.5015, 0.9761,\n",
       "         0.0000],\n",
       "        [0.0000, 0.0000, 0.0000, 0.0000, 0.0000, 0.0000, 0.1826, 0.0000, 0.0806,\n",
       "         0.0000],\n",
       "        [0.0000, 0.0000, 0.0000, 0.0000, 0.0000, 0.0000, 0.3927, 0.5473, 0.0000,\n",
       "         0.0000],\n",
       "        [0.0000, 0.0000, 0.0000, 0.0000, 0.0000, 0.0000, 0.0000, 0.0000, 0.0000,\n",
       "         0.0000]])"
      ]
     },
     "execution_count": 41,
     "metadata": {},
     "output_type": "execute_result"
    }
   ],
   "source": [
    "adje.to_dense()"
   ]
  },
  {
   "cell_type": "code",
   "execution_count": 33,
   "id": "7f0e50cd-19ad-4d14-852d-4a808d82b3c6",
   "metadata": {},
   "outputs": [],
   "source": [
    "#select the upper triangular matrix from a sparse matrix\n",
    "def triu(spm):\n",
    "    mask = spm.row <= spm.col\n",
    "    return dgl.sparse.from_coo(spm.row[mask],spm.col[mask],spm.val[mask],shape=spm.shape)"
   ]
  },
  {
   "cell_type": "code",
   "execution_count": 34,
   "id": "df055ad2-5fa0-4130-9eb0-2469a06040ce",
   "metadata": {},
   "outputs": [],
   "source": [
    "#create a symmetrical matrix based on an input upper triangular matrix. Note, this works because the diagonal is zero as we have no self-loops  \n",
    "def sym_from_triu(triuspm):\n",
    "    return triuspm + triuspm.T"
   ]
  },
  {
   "cell_type": "code",
   "execution_count": 35,
   "id": "5635e06a-a6c0-41c3-b993-6c68920df7f2",
   "metadata": {},
   "outputs": [],
   "source": [
    "#symmetrize graph weights in place using triangular symmetrization as above\n",
    "def symmetrize_edge_prop(g,etype=None,eprop=None):\n",
    "    am = adj_mat_with_edge_prop(g, etype=etype, eprop=eprop)\n",
    "    sam = sym_from_triu(triu(am))\n",
    "    g.edata['w'] = sam.val\n",
    "    \n",
    "    \n",
    "    \n",
    "    "
   ]
  },
  {
   "cell_type": "markdown",
   "id": "734a2529-f895-4cca-a37c-87412dba3ef7",
   "metadata": {},
   "source": [
    "symmetrize the graph edge weights on the basis of the upper triangular matrix"
   ]
  },
  {
   "cell_type": "code",
   "execution_count": 42,
   "id": "7c22d663-e789-4ee0-8704-7cbd92b87183",
   "metadata": {},
   "outputs": [
    {
     "name": "stdout",
     "output_type": "stream",
     "text": [
      "SparseMatrix(indices=tensor([[0, 0, 0, 1, 1, 2, 2, 3, 3, 3, 4, 4, 5, 5, 6, 6, 7, 7, 8, 8],\n",
      "                             [1, 2, 3, 0, 2, 0, 1, 0, 4, 5, 3, 5, 3, 4, 7, 8, 6, 8, 6, 7]]),\n",
      "             values=tensor([0.4685, 0.5463, 0.6963, 0.4754, 0.3563, 0.5243, 0.8724, 0.5312, 0.0729,\n",
      "                            0.3145, 0.9544, 0.5473, 0.5350, 0.6529, 0.5015, 0.9761, 0.1826, 0.0806,\n",
      "                            0.3927, 0.5473]),\n",
      "             shape=(10, 10), nnz=20)\n",
      "SparseMatrix(indices=tensor([[0, 0, 0, 1, 1, 2, 2, 3, 3, 3, 4, 4, 5, 5, 6, 6, 7, 7, 8, 8],\n",
      "                             [1, 2, 3, 0, 2, 0, 1, 0, 4, 5, 3, 5, 3, 4, 7, 8, 6, 8, 6, 7]]),\n",
      "             values=tensor([0.4685, 0.5463, 0.6963, 0.4685, 0.3563, 0.5463, 0.3563, 0.6963, 0.0729,\n",
      "                            0.3145, 0.0729, 0.5473, 0.3145, 0.5473, 0.5015, 0.9761, 0.5015, 0.0806,\n",
      "                            0.9761, 0.0806]),\n",
      "             shape=(10, 10), nnz=20)\n"
     ]
    }
   ],
   "source": [
    "symmetrize_edge_prop(g,eprop='w')"
   ]
  },
  {
   "cell_type": "code",
   "execution_count": 43,
   "id": "e52f0196-c664-4229-ad45-44630cb31c88",
   "metadata": {},
   "outputs": [
    {
     "data": {
      "text/plain": [
       "tensor([0.4685, 0.5463, 0.6963, 0.4685, 0.3563, 0.5463, 0.3563, 0.6963, 0.0729,\n",
       "        0.3145, 0.0729, 0.5473, 0.3145, 0.5473, 0.5015, 0.9761, 0.5015, 0.0806,\n",
       "        0.9761, 0.0806])"
      ]
     },
     "execution_count": 43,
     "metadata": {},
     "output_type": "execute_result"
    }
   ],
   "source": [
    "g.edata['w']"
   ]
  },
  {
   "cell_type": "code",
   "execution_count": 47,
   "id": "09c34886-2000-4fff-96e8-12f62d5ec6be",
   "metadata": {},
   "outputs": [],
   "source": [
    "sadje = adj_mat_with_edge_prop(g,eprop='w')"
   ]
  },
  {
   "cell_type": "code",
   "execution_count": 48,
   "id": "162b01a4-9050-4e02-ba2a-6e70cd9deba2",
   "metadata": {},
   "outputs": [
    {
     "data": {
      "text/plain": [
       "tensor([[0.0000, 0.4685, 0.5463, 0.6963, 0.0000, 0.0000, 0.0000, 0.0000, 0.0000,\n",
       "         0.0000],\n",
       "        [0.4685, 0.0000, 0.3563, 0.0000, 0.0000, 0.0000, 0.0000, 0.0000, 0.0000,\n",
       "         0.0000],\n",
       "        [0.5463, 0.3563, 0.0000, 0.0000, 0.0000, 0.0000, 0.0000, 0.0000, 0.0000,\n",
       "         0.0000],\n",
       "        [0.6963, 0.0000, 0.0000, 0.0000, 0.0729, 0.3145, 0.0000, 0.0000, 0.0000,\n",
       "         0.0000],\n",
       "        [0.0000, 0.0000, 0.0000, 0.0729, 0.0000, 0.5473, 0.0000, 0.0000, 0.0000,\n",
       "         0.0000],\n",
       "        [0.0000, 0.0000, 0.0000, 0.3145, 0.5473, 0.0000, 0.0000, 0.0000, 0.0000,\n",
       "         0.0000],\n",
       "        [0.0000, 0.0000, 0.0000, 0.0000, 0.0000, 0.0000, 0.0000, 0.5015, 0.9761,\n",
       "         0.0000],\n",
       "        [0.0000, 0.0000, 0.0000, 0.0000, 0.0000, 0.0000, 0.5015, 0.0000, 0.0806,\n",
       "         0.0000],\n",
       "        [0.0000, 0.0000, 0.0000, 0.0000, 0.0000, 0.0000, 0.9761, 0.0806, 0.0000,\n",
       "         0.0000],\n",
       "        [0.0000, 0.0000, 0.0000, 0.0000, 0.0000, 0.0000, 0.0000, 0.0000, 0.0000,\n",
       "         0.0000]])"
      ]
     },
     "execution_count": 48,
     "metadata": {},
     "output_type": "execute_result"
    }
   ],
   "source": [
    "sadje.to_dense()"
   ]
  }
 ],
 "metadata": {
  "kernelspec": {
   "display_name": "dgl",
   "language": "python",
   "name": "dgl"
  },
  "language_info": {
   "codemirror_mode": {
    "name": "ipython",
    "version": 3
   },
   "file_extension": ".py",
   "mimetype": "text/x-python",
   "name": "python",
   "nbconvert_exporter": "python",
   "pygments_lexer": "ipython3",
   "version": "3.10.12"
  }
 },
 "nbformat": 4,
 "nbformat_minor": 5
}
